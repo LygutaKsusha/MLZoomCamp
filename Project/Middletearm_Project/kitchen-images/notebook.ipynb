{
 "cells": [
  {
   "cell_type": "code",
   "execution_count": 8,
   "metadata": {},
   "outputs": [],
   "source": [
    "import pandas as pd\n",
    "import numpy as np\n",
    "import tensorflow as tf\n",
    "from tensorflow import keras"
   ]
  },
  {
   "attachments": {},
   "cell_type": "markdown",
   "metadata": {},
   "source": [
    "# Load Data"
   ]
  },
  {
   "cell_type": "code",
   "execution_count": 9,
   "metadata": {},
   "outputs": [],
   "source": [
    "# Load the data\n",
    "train = pd.read_csv('./data/train.csv')\n",
    "test = pd.read_csv('./data/test.csv')\n",
    "\n",
    "\n",
    "train.Id = train.Id.astype(str)\n",
    "test.Id = test.Id.astype(str)\n",
    "\n",
    "for i in train.Id:\n",
    "    if len(str(i)) < 4:\n",
    "        train.Id = train.Id.replace(i, '0'*(4-len(str(i))) + str(i)).astype(str)\n",
    "\n",
    "for i in test.Id:\n",
    "    if len(str(i)) < 4:\n",
    "        test.Id = test.Id.replace(i, '0'*(4-len(str(i))) + str(i)).astype(str)\n",
    "\n",
    "def append_ext(fn):\n",
    "    return fn+\".jpg\"\n",
    "\n",
    "train[\"Id\"]=train[\"Id\"].apply(append_ext)\n",
    "test[\"Id\"]=test[\"Id\"].apply(append_ext)\n",
    "\n",
    "classes = train['label'].unique().tolist()\n",
    "\n"
   ]
  },
  {
   "cell_type": "code",
   "execution_count": null,
   "metadata": {},
   "outputs": [],
   "source": [
    "train.head()"
   ]
  },
  {
   "cell_type": "code",
   "execution_count": null,
   "metadata": {},
   "outputs": [],
   "source": [
    "print(f'Total number of classes: {train[\"label\"].nunique()}')\n",
    "print(f'Total number of images for training: {train.shape[0]}')\n",
    "print(f'Total number of images for testing: {test.shape[0]}')\n",
    "print(f'Total train + test images: {train.shape[0] + test.shape[0]}')\n",
    "\n",
    "import os\n",
    "print(f'Total number of images in the images folder: {len(os.listdir(\"images\"))}')"
   ]
  },
  {
   "cell_type": "code",
   "execution_count": null,
   "metadata": {},
   "outputs": [],
   "source": [
    "print('Number of images per class:')\n",
    "train['label'].value_counts().plot(kind='bar')"
   ]
  },
  {
   "cell_type": "code",
   "execution_count": null,
   "metadata": {},
   "outputs": [],
   "source": [
    "# Display single image for each class\n",
    "import matplotlib.pyplot as plt\n",
    "import matplotlib.image as mpimg\n",
    "#import seaborn as sns\n",
    "%matplotlib inline\n",
    "\n",
    "plt.figure(figsize=(20, 20))\n",
    "\n",
    "for i, c in enumerate(classes):\n",
    "    plt.subplot(5, 2, i+1)\n",
    "    img = mpimg.imread('images/' + train[train['label'] == c]['Id'].values[0])\n",
    "    plt.imshow(img)\n",
    "    plt.title(f'Label: {c}')\n",
    "    plt.axis('off')\n",
    "    i += 1\n",
    "plt.show()"
   ]
  },
  {
   "attachments": {},
   "cell_type": "markdown",
   "metadata": {},
   "source": [
    "# Predict Pretrained Model"
   ]
  },
  {
   "cell_type": "code",
   "execution_count": null,
   "metadata": {},
   "outputs": [],
   "source": [
    "from tensorflow.keras.applications.xception import Xception\n",
    "from tensorflow.keras.applications.xception import preprocess_input\n",
    "from tensorflow.keras.applications.xception import decode_predictions\n",
    "from tensorflow.keras.preprocessing.image import load_img\n",
    "import numpy as np\n",
    "\n",
    "model = Xception(weights='imagenet', input_shape=(299, 299, 3))\n",
    "\n",
    "x = load_img('images/0001.jpg', target_size=(299, 299))\n",
    "x = np.array(x)\n",
    "X = np.expand_dims(x, axis=0)\n",
    "X = preprocess_input(X)\n",
    "\n",
    "# display the image\n",
    "plt.imshow(x/255.)\n",
    "plt.show()\n",
    "\n",
    "pred = model.predict(X)\n",
    "decode_predictions(pred, top=3)[0]"
   ]
  },
  {
   "attachments": {},
   "cell_type": "markdown",
   "metadata": {},
   "source": [
    "# Training a model to classify kitchen image"
   ]
  },
  {
   "cell_type": "code",
   "execution_count": null,
   "metadata": {},
   "outputs": [],
   "source": [
    "# Training baseline model with Xception\n",
    "from tensorflow.keras.applications.xception import Xception\n",
    "from tensorflow.keras.applications.xception import preprocess_input\n",
    "from tensorflow.keras.applications.xception import decode_predictions\n",
    "from tensorflow.keras.layers import Dense, GlobalAveragePooling2D\n",
    "from tensorflow.keras.models import Model\n",
    "from tensorflow.keras.optimizers import Adam\n",
    "from tensorflow.keras.callbacks import ModelCheckpoint, EarlyStopping\n",
    "from tensorflow.keras.preprocessing.image import ImageDataGenerator\n",
    "\n",
    "train_gen = ImageDataGenerator(\n",
    "    preprocessing_function=preprocess_input,\n",
    "    validation_split=0.2\n",
    ")\n",
    "\n",
    "train_generator = train_gen.flow_from_dataframe(\n",
    "    dataframe=train,\n",
    "    directory='images/',\n",
    "    x_col='Id',\n",
    "    y_col='label',\n",
    "    target_size=(299, 299),\n",
    "    batch_size=32,\n",
    "    class_mode='categorical',\n",
    "    subset='training'\n",
    ")\n",
    "\n",
    "val_generator = train_gen.flow_from_dataframe(\n",
    "    dataframe=train,\n",
    "    directory='images/',\n",
    "    x_col='Id',\n",
    "    y_col='label',\n",
    "    target_size=(299, 299),\n",
    "    batch_size=32,\n",
    "    class_mode='categorical',\n",
    "    subset='validation'\n",
    ")\n",
    "\n",
    "# save train_generator.class_indices to a file\n",
    "import json\n",
    "with open('./models/class_indices.json', 'w') as f:\n",
    "    json.dump(train_generator.class_indices, f)\n"
   ]
  },
  {
   "cell_type": "code",
   "execution_count": 16,
   "metadata": {},
   "outputs": [],
   "source": [
    "base_model = Xception(weights='imagenet', include_top=False)\n",
    "\n",
    "base_model.trainable = False\n",
    "\n",
    "inputs = keras.Input(shape=(299, 299, 3))\n",
    "\n",
    "base = base_model(inputs, training=False)\n",
    "\n",
    "vectors = GlobalAveragePooling2D()(base)\n",
    "\n",
    "outputs = Dense(6, activation='softmax')(vectors)\n",
    "\n",
    "model = Model(inputs, outputs)\n"
   ]
  },
  {
   "cell_type": "code",
   "execution_count": null,
   "metadata": {},
   "outputs": [],
   "source": [
    "learning_rate = 0.0001\n",
    "epochs = 10\n",
    "batch_size = 32\n",
    "optimizer = Adam(lr=learning_rate)\n",
    "loss = keras.losses.CategoricalCrossentropy()\n",
    "metrics = ['accuracy']\n",
    "\n",
    "model.compile(optimizer=optimizer, loss=loss, metrics=metrics)\n",
    "\n",
    "model.summary()"
   ]
  },
  {
   "cell_type": "code",
   "execution_count": null,
   "metadata": {},
   "outputs": [],
   "source": [
    "history = model.fit(\n",
    "    train_generator,\n",
    "    epochs=epochs,\n",
    "    validation_data=val_generator,\n",
    "    callbacks=[\n",
    "        ModelCheckpoint('./models/model.h', save_best_only=True),\n",
    "        EarlyStopping(patience=3)\n",
    "    ]\n",
    ")\n",
    "\n"
   ]
  },
  {
   "cell_type": "code",
   "execution_count": null,
   "metadata": {},
   "outputs": [],
   "source": [
    "# plot the training loss and accuracy\n",
    "import matplotlib.pyplot as plt\n",
    "plt.style.use(\"ggplot\")\n",
    "plt.figure()\n",
    "N = epochs\n",
    "plt.plot(np.arange(0, N), history.history[\"loss\"], label=\"train_loss\")\n",
    "plt.plot(np.arange(0, N), history.history[\"val_loss\"], label=\"val_loss\")\n",
    "plt.plot(np.arange(0, N), history.history[\"accuracy\"], label=\"train_acc\")\n",
    "plt.plot(np.arange(0, N), history.history[\"val_accuracy\"], label=\"val_acc\")\n",
    "plt.title(\"Training Loss and Accuracy on Dataset\")\n",
    "plt.xlabel(\"Epoch #\")\n",
    "plt.ylabel(\"Loss/Accuracy\")\n",
    "plt.legend(loc=\"lower left\")"
   ]
  },
  {
   "cell_type": "code",
   "execution_count": null,
   "metadata": {},
   "outputs": [],
   "source": [
    "# predict on test set\n",
    "test_gen = ImageDataGenerator(\n",
    "    preprocessing_function=preprocess_input\n",
    ")\n",
    "\n",
    "test_generator = test_gen.flow_from_dataframe(\n",
    "    dataframe=test,\n",
    "    directory='images/',\n",
    "    x_col='Id',\n",
    "    y_col=None,\n",
    "    target_size=(299, 299),\n",
    "    batch_size=32,\n",
    "    class_mode=None,\n",
    "    shuffle=False\n",
    ")\n",
    "\n",
    "model = keras.models.load_model('model.h)\n",
    "\n",
    "pred = model.predict(test_generator)\n",
    "\n",
    "# decode predictions\n",
    "pred = np.argmax(pred, axis=1)\n",
    "\n",
    "# class labels\n",
    "labels = (train_generator.class_indices)\n",
    "labels = dict((v,k) for k,v in labels.items())\n",
    "predictions = [labels[k] for k in pred]\n",
    "\n",
    "# create submission file\n",
    "sub = pd.DataFrame({'Id': test.Id, 'label': predictions})\n",
    "sub.to_csv('submission.csv', index=False)\n"
   ]
  },
  {
   "cell_type": "code",
   "execution_count": 16,
   "metadata": {},
   "outputs": [],
   "source": [
    "# check for all test images in images folder\n",
    "test = pd.read_csv('./data/test.csv')\n",
    "\n",
    "test.Id = test.Id.astype(str)\n",
    "\n",
    "for i in test.Id:\n",
    "    if len(str(i)) < 4:\n",
    "        test.Id = test.Id.replace(i, '0'*(4-len(str(i))) + str(i)).astype(str)\n",
    "\n",
    "def append_ext(fn):\n",
    "    return fn+\".jpg\"\n",
    "\n",
    "test[\"Id\"]=test[\"Id\"].apply(append_ext)\n",
    "\n",
    "\n",
    "import os\n",
    "count = 0\n",
    "for i in test.Id:\n",
    "    if i not in os.listdir('images/'):\n",
    "        count += 1\n",
    "        print(i)"
   ]
  },
  {
   "attachments": {},
   "cell_type": "markdown",
   "metadata": {},
   "source": [
    "# Predict single image"
   ]
  },
  {
   "cell_type": "code",
   "execution_count": null,
   "metadata": {},
   "outputs": [],
   "source": [
    "def predict_single(image_url, web=True):\n",
    "    from tensorflow import keras\n",
    "    import numpy as np\n",
    "    import json\n",
    "\n",
    "    # predict from image url from the web\n",
    "    import requests\n",
    "    from PIL import Image\n",
    "    from io import BytesIO\n",
    "\n",
    "    if web:\n",
    "        response = requests.get(image_url)\n",
    "        img = Image.open(BytesIO(response.content))\n",
    "    else:\n",
    "        img = Image.open(image_url)\n",
    "\n",
    "    # preprocess image\n",
    "    from tensorflow.keras.applications.xception import preprocess_input\n",
    "    img = img.resize((299, 299))\n",
    "    img = np.array(img)\n",
    "    img = np.expand_dims(img, axis=0)\n",
    "    img = preprocess_input(img)\n",
    "\n",
    "    # load model\n",
    "    model = keras.models.load_model('./models/model_kaggle.h')\n",
    "\n",
    "    # load class indices\n",
    "    with open('./models/class_indices.json', 'r') as f:\n",
    "        class_indices = json.load(f)\n",
    "\n",
    "    # predict and decode along with probabilities\n",
    "    preds = model.predict(img)\n",
    "    pred = np.argmax(preds, axis=1)\n",
    "    labels = dict((v,k) for k,v in class_indices.items())\n",
    "    predictions = [labels[k] for k in pred][0]\n",
    "    prob = np.max(preds, axis=1)[0]\n",
    "    return {'Label': predictions, 'Probability': prob}\n",
    "\n",
    "\n",
    "predict_single('https://xcdn.next.co.uk/common/Items/Default/Default/Publications/G85/shotview-315x472/8164/M05-222s.jpg')"
   ]
  },
  {
   "cell_type": "code",
   "execution_count": null,
   "metadata": {},
   "outputs": [],
   "source": [
    "json.load(open('./models/class_indices.json'))"
   ]
  },
  {
   "cell_type": "code",
   "execution_count": null,
   "metadata": {},
   "outputs": [],
   "source": []
  }
 ],
 "metadata": {
  "kernelspec": {
   "display_name": "Python 3.8.15 ('ml-zoomcamp')",
   "language": "python",
   "name": "python3"
  },
  "language_info": {
   "codemirror_mode": {
    "name": "ipython",
    "version": 3
   },
   "file_extension": ".py",
   "mimetype": "text/x-python",
   "name": "python",
   "nbconvert_exporter": "python",
   "pygments_lexer": "ipython3",
   "version": "3.8.15"
  },
  "orig_nbformat": 4,
  "vscode": {
   "interpreter": {
    "hash": "bade87d67844cc7ba434e1b3fd800a2810b320c8b04d769557ea0aad6f0ea527"
   }
  }
 },
 "nbformat": 4,
 "nbformat_minor": 2
}
